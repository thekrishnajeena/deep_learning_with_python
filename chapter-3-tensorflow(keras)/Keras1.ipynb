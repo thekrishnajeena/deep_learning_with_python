{
 "cells": [
  {
   "cell_type": "code",
   "execution_count": 1,
   "id": "17a2f375",
   "metadata": {},
   "outputs": [],
   "source": [
    "# a dense layer implemented as a Layer subclass\n",
    "\n",
    "from tensorflow import keras\n",
    "import tensorflow as tf\n",
    "\n",
    "class SimpleDense(keras.layers.Layer):\n",
    "\n",
    "    def __init__(self, units, activation=None):\n",
    "        super().__init__()\n",
    "        self.units = units\n",
    "        self.activation = activation\n",
    "\n",
    "    def build(self, input_shape):\n",
    "        input_dim = input_shape[-1]\n",
    "        self.W = self.add_weight(shape=(input_dim, self.units),\n",
    "                                 initializer=\"random_normal\")\n",
    "        self.b = self.add_weight(shape=(self.units,),\n",
    "                                 initializer=\"zeros\")\n",
    "        \n",
    "    def call(self, inputs):\n",
    "        y = tf.matmul(inputs, self.W) + self.b\n",
    "        if self.activation is not None:\n",
    "            y = self.activation(y)\n",
    "        return y\n",
    "    \n",
    "    "
   ]
  },
  {
   "cell_type": "code",
   "execution_count": 2,
   "id": "93f147ce",
   "metadata": {},
   "outputs": [
    {
     "name": "stdout",
     "output_type": "stream",
     "text": [
      "tf.Tensor(\n",
      "[[0.         0.         0.         0.         0.         0.\n",
      "  0.737467   0.         0.         0.         0.8160012  1.600443\n",
      "  0.         0.         0.7551146  1.9141595  0.12247282 1.7188808\n",
      "  0.         0.         1.8673375  0.         0.5027219  0.\n",
      "  0.4682356  1.8273239  1.3946948  0.         0.         0.21553755\n",
      "  0.52608943 0.2473942 ]\n",
      " [0.         0.         0.         0.         0.         0.\n",
      "  0.737467   0.         0.         0.         0.8160012  1.600443\n",
      "  0.         0.         0.7551146  1.9141595  0.12247282 1.7188808\n",
      "  0.         0.         1.8673375  0.         0.5027219  0.\n",
      "  0.4682356  1.8273239  1.3946948  0.         0.         0.21553755\n",
      "  0.52608943 0.2473942 ]], shape=(2, 32), dtype=float32)\n"
     ]
    }
   ],
   "source": [
    "my_dense = SimpleDense(units=32, activation=tf.nn.relu)\n",
    "input_tensor = tf.ones(shape=(2, 784))\n",
    "output_tensor = my_dense(input_tensor)\n",
    "print(output_tensor)"
   ]
  },
  {
   "cell_type": "code",
   "execution_count": 5,
   "id": "93c1fb7f",
   "metadata": {},
   "outputs": [
    {
     "name": "stdout",
     "output_type": "stream",
     "text": [
      "<Dense name=dense_1, built=False>\n"
     ]
    }
   ],
   "source": [
    "# a dense layer with 32 output units\n",
    "from keras import layers\n",
    "\n",
    "layer = layers.Dense(32, activation=\"relu\")\n",
    "print(layer)"
   ]
  },
  {
   "cell_type": "code",
   "execution_count": null,
   "id": "b6da2c71",
   "metadata": {},
   "outputs": [
    {
     "ename": "",
     "evalue": "",
     "output_type": "error",
     "traceback": [
      "\u001b[1;31mThe Kernel crashed while executing code in the current cell or a previous cell. \n",
      "\u001b[1;31mPlease review the code in the cell(s) to identify a possible cause of the failure. \n",
      "\u001b[1;31mClick <a href='https://aka.ms/vscodeJupyterKernelCrash'>here</a> for more info. \n",
      "\u001b[1;31mView Jupyter <a href='command:jupyter.viewOutput'>log</a> for further details."
     ]
    }
   ],
   "source": [
    "model = keras.Sequential([\n",
    "    SimpleDense(32, activation=\"relu\"),\n",
    "    SimpleDense(64, activation=\"relu\"),\n",
    "    SimpleDense(32, activation=\"relu\"),\n",
    "    SimpleDense(10, activation=\"softmax\")\n",
    "\n",
    "])"
   ]
  },
  {
   "cell_type": "code",
   "execution_count": null,
   "id": "0436e47d",
   "metadata": {},
   "outputs": [],
   "source": [
    "model = keras.Sequential([keras.layers.Dense(1)])\n",
    "# strings here are actually shortcuts that get converted to Python objects\n",
    "model.compile(optimizer=\"rmsprop\", loss=\"mean_squared_error\", metrics=[\"accuracy\"]) \n",
    "\n",
    "# also possible to specify as object instances\n",
    "model.compile(optimizer=keras.optimizers.RMSprop(),\n",
    "              loss = keras.losses.MeanSquaredError(),\n",
    "              metrics=[keras.metrics.BinaryAccuracy()]) \n",
    "# can also create custom losses and metrisc and configure too\n"
   ]
  }
 ],
 "metadata": {
  "kernelspec": {
   "display_name": "Python 3",
   "language": "python",
   "name": "python3"
  },
  "language_info": {
   "codemirror_mode": {
    "name": "ipython",
    "version": 3
   },
   "file_extension": ".py",
   "mimetype": "text/x-python",
   "name": "python",
   "nbconvert_exporter": "python",
   "pygments_lexer": "ipython3",
   "version": "3.12.10"
  }
 },
 "nbformat": 4,
 "nbformat_minor": 5
}
